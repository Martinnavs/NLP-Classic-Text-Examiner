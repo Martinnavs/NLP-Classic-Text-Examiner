{
 "cells": [
  {
   "cell_type": "code",
   "execution_count": 4,
   "metadata": {},
   "outputs": [],
   "source": [
    "# 9 pm \n",
    "\n",
    "import pandas as pd\n",
    "import matplotlib.pyplot as plt\n",
    "from datetime import datetime,timezone\n",
    "import numpy as np"
   ]
  },
  {
   "cell_type": "code",
   "execution_count": 5,
   "metadata": {},
   "outputs": [],
   "source": [
    "dstr = \"501\"\n",
    "day = int(dstr[1:])\n",
    "\n",
    "test = pd.read_csv(dstr+ \".csv\")\n",
    "\n",
    "# # ALTER THIS!\n",
    "seg = test[(test['messages.address'] == '+639233468687')].reset_index(drop=True)\n",
    "\n",
    "FMT = '%Y-%m-%d %H:%M:%S'\n",
    "then = np.int64(datetime.strptime(\"2020-04-\" + str(30) + \" 20:00:00\",FMT).strftime(\"%s\")) * 1000\n",
    "now = np.int64(datetime.strptime(\"2020-05-\" + str(day) + \" 19:59:29\",FMT).strftime(\"%s\")) * 1000\n",
    "tout = seg[(seg[\"messages.body\"].str.find(\"PAGGAWAS\") != -1) & ((seg[\"messages.date\"] >= then) \n",
    "                                                                & (seg[\"messages.date\"] <= now))]\n",
    "# tin = seg[(seg[\"messages.body\"].str.find(\"PABALIK\") != -1) & ((seg[\"messages.date\"] >= then) \n",
    "#                                                                 & (seg[\"messages.date\"] <= now))]\n",
    "out = tout[['messages.date','messages.body']].reset_index(drop=True)\n",
    "# inn = tin[['messages.date','messages.body']].reset_index(drop=True)\n"
   ]
  },
  {
   "cell_type": "markdown",
   "metadata": {},
   "source": [
    "## SAVE PRELIMINARY EXTRACTED DATA"
   ]
  },
  {
   "cell_type": "code",
   "execution_count": 6,
   "metadata": {},
   "outputs": [],
   "source": [
    "# out['messages.body'] = out['messages.body'].replace('[n[P,U,T,D]','['']')\n",
    "out.to_csv(dstr+\"out.csv\")\n",
    "# inn.to_csv(dstr + \"in.csv\")"
   ]
  },
  {
   "cell_type": "markdown",
   "metadata": {},
   "source": [
    "## CLEANING DATA"
   ]
  },
  {
   "cell_type": "code",
   "execution_count": 8,
   "metadata": {},
   "outputs": [],
   "source": [
    "out = pd.read_csv(dstr+\"out.csv\")\n",
    "# inn = pd.read_csv(dstr+\"in.csv\")\n",
    "# print(out.head())"
   ]
  },
  {
   "cell_type": "code",
   "execution_count": 9,
   "metadata": {},
   "outputs": [],
   "source": [
    "\n",
    "# print()\n",
    "wew = pd.DataFrame()\n",
    "\n",
    "for i in range(len(out)):\n",
    "#     print(out.loc[i])\n",
    "    z = out.loc[i].iloc[2]\n",
    "#     print(type(z))\n",
    "    sp = z.split(\"\\\\n\")\n",
    "    if len(sp) == 5:\n",
    "        b = sp[1][9:].title().strip()\n",
    "        a = sp[2][12:].title().strip()\n",
    "        c = sp[3][7:].title().strip()\n",
    "        d = sp[4][12:].title().strip()\n",
    "        epoch = out.loc[i].iloc[1]//1000\n",
    "        e = datetime.fromtimestamp(epoch).strftime('%Y-%m-%d %H:%M:%S')\n",
    "        row = {'Name': b, 'Sitio': a,'Destination':d, 'Intention':c, 'Time-Out':e}\n",
    "        wew = wew.append(row,ignore_index=True)\n",
    "# print(wew.head())\n",
    "wew = wew.sort_values(['Time-Out']).reset_index(drop=True)\n",
    "# aw = pd.DataFrame()\n",
    "# for i in range(len(inn)):\n",
    "#     z = inn.loc[i].iloc[2]\n",
    "#     sp = z.split(\"\\\\n\")\n",
    "#     if len(sp) == 2:\n",
    "#         a = sp[1][9:].title().strip()\n",
    "#         epoch = inn.loc[i].iloc[1]//1000\n",
    "#         e = datetime.fromtimestamp(epoch).strftime('%Y-%m-%d %H:%M:%S')\n",
    "#         row = {'Name': a,'Time-In':e}\n",
    "#         aw = aw.append(row,ignore_index=True)\n",
    "# aw = aw.sort_values(['Time-In']).reset_index(drop=True)\n",
    "# print(wew)\n"
   ]
  },
  {
   "cell_type": "markdown",
   "metadata": {},
   "source": [
    "## SAVE CLEAN DATA"
   ]
  },
  {
   "cell_type": "code",
   "execution_count": 10,
   "metadata": {},
   "outputs": [],
   "source": [
    "wew.to_csv(dstr + \"outclean.csv\")\n",
    "# aw.to_csv(dstr + \"inclean.csv\")"
   ]
  },
  {
   "cell_type": "markdown",
   "metadata": {},
   "source": [
    "## JOIN OUT AND IN, CALCULATE TIME DURATION"
   ]
  },
  {
   "cell_type": "code",
   "execution_count": 17,
   "metadata": {},
   "outputs": [],
   "source": [
    "wew = pd.read_csv(dstr+\"outclean.csv\")\n",
    "# aw = pd.read_csv(dstr+\"inclean.csv\")"
   ]
  },
  {
   "cell_type": "code",
   "execution_count": 18,
   "metadata": {},
   "outputs": [],
   "source": [
    "wew = wew.sort_values(['Time-Out']).reset_index(drop=True)\n",
    "wew['Time-Out'] = pd.to_datetime(wew['Time-Out'])\n",
    "# aw['Time-In'] = pd.to_datetime(aw['Time-In'])\n",
    "# finn = pd.merge_asof(wew,aw,left_on='Time-Out',right_on='Time-In',by='Name',direction='forward')\n",
    "# print(df)\n",
    "\n",
    "\n",
    "\n",
    "# def func(row):\n",
    "#     x = row['Time-In']\n",
    "#     y = row['Time-Out']\n",
    "#     return x-y\n",
    "\n",
    "# finn['Duration'] =  finn.apply(func, axis=1)\n",
    "# print(finn)"
   ]
  },
  {
   "cell_type": "markdown",
   "metadata": {},
   "source": [
    "## SAVE FINAL DATA"
   ]
  },
  {
   "cell_type": "code",
   "execution_count": 19,
   "metadata": {},
   "outputs": [],
   "source": [
    "wew.to_csv(dstr+\"final.csv\")"
   ]
  },
  {
   "cell_type": "markdown",
   "metadata": {},
   "source": [
    "## STATISTICAL ANALYSIS"
   ]
  },
  {
   "cell_type": "code",
   "execution_count": 40,
   "metadata": {},
   "outputs": [],
   "source": [
    "data = pd.read_csv(dstr+\"final.csv\")\n",
    "data.drop([\"Unnamed: 0\", \"Unnamed: 0.1\"], axis=1,inplace = True)\n",
    "# print(data)"
   ]
  },
  {
   "cell_type": "code",
   "execution_count": 41,
   "metadata": {},
   "outputs": [
    {
     "name": "stdout",
     "output_type": "stream",
     "text": [
      "['1', '2', '3', 'Anak', 'Booking Softdrinks', 'Check Up', 'Family', 'Fillup', 'Hatod/Deliver', 'Kuha Bata', 'Kuha Order', 'Lawg', 'Meeting', 'Sugat', 'Uban pa', 'Visit Mother', 'nan']\n",
      "Necessities, Supplies\n",
      "Work\n",
      "Money Matters\n",
      "Anak\n",
      "Booking Softdrinks\n",
      "Check Up\n",
      "Family\n",
      "Fillup\n",
      "Hatod/Deliver\n",
      "Kuha Bata\n",
      "Kuha Order\n",
      "Lawg\n",
      "Meeting\n",
      "Sugat\n",
      "Uban pa\n",
      "Visit Mother\n",
      "Wala muingon\n",
      "\n",
      "\n",
      "\n",
      "93\n",
      "38\n",
      "16\n",
      "1\n",
      "1\n",
      "1\n",
      "1\n",
      "1\n",
      "3\n",
      "1\n",
      "1\n",
      "2\n",
      "1\n",
      "1\n",
      "8\n",
      "1\n",
      "6\n"
     ]
    }
   ],
   "source": [
    "# print(data.columns)\n",
    "tumong= data.groupby('Intention')['Intention'].count().tolist()\n",
    "tumongnames = data['Intention'].unique().tolist()\n",
    "tumongnames = [str(x) for x in tumongnames]\n",
    "tumongnames.sort()\n",
    "print(tumongnames)\n",
    "tumongnames = [\"Necessities, Supplies\",\"Work\",\"Money Matters\"] + tumongnames[3:]\n",
    "# tumongnames.insert(,0)\n",
    "# tumongnames.insert(,1)\n",
    "# tumongnames.insert(,2)\n",
    "# print(tumongnames)\n",
    "# print(len(data) - sum(tumong))\n",
    "# tumong = data['Intention'].groupby(['Intention']).count()\n",
    "tf = list(zip(tumongnames,tumong))\n",
    "tf.append((\"Wala muingon\", len(data)-sum(tumong)))\n",
    "for i in tf:\n",
    "    print(i[0])\n",
    "print(\"\\n\\n\")\n",
    "for i in tf:\n",
    "    print(i[1])"
   ]
  },
  {
   "cell_type": "code",
   "execution_count": 42,
   "metadata": {},
   "outputs": [
    {
     "data": {
      "image/png": "[encoded data removed]",
      "text/plain": [
       "<Figure size 648x648 with 1 Axes>"
      ]
     },
     "metadata": {
      "needs_background": "light"
     },
     "output_type": "display_data"
    }
   ],
   "source": [
    "x = [tf[i][0] for i in range(len(tf))]\n",
    "y = [tf[i][1] for i in range(len(tf))]\n",
    "\n",
    "ab = plt.figure(figsize=(9,9))\n",
    "ax = plt.subplot()\n",
    "plt.bar(range(len(tf)),y)\n",
    "# plt.bar(range(x),y)\n",
    "# ax.set_yticks(range(max(y)+1))\n",
    "ax.set_xticks(range(len(x)))\n",
    "ax.set_xticklabels(x, rotation = 90)\n",
    "plt.xlabel('Tumong')\n",
    "plt.ylabel('Ihap')\n",
    "plt.title(\"Kasagarang Tumong pagka April \" + str(30) + \" 8:00 p.m. - May \"+ str(day) +\" 8:00 p.m.\")\n",
    "plt.show()\n",
    "ab.savefig(dstr+'tumong')\n",
    "# plt.labels(tumongnames)"
   ]
  },
  {
   "cell_type": "code",
   "execution_count": 43,
   "metadata": {},
   "outputs": [
    {
     "name": "stdout",
     "output_type": "stream",
     "text": [
      "['Lower', 'Upper', nan]\n",
      "[('Lower', 59), ('Upper', 116), ('Wala muingon', 1)]\n"
     ]
    }
   ],
   "source": [
    "def absolute_value(val):\n",
    "    a  = np.round(val/100.*sum(residents), 0)\n",
    "    return a\n",
    "\n",
    "residents= data.groupby('Sitio')['Sitio'].count().tolist()\n",
    "residents.append(len(data)-sum(residents))\n",
    "rnames = data['Sitio'].unique().tolist()\n",
    "print(rnames)\n",
    "rnames = [x for x in rnames if x == 'Upper' or x == 'Lower']\n",
    "rnames.append(\"Wala muingon\")\n",
    "# print(rnames)\n",
    "rnames.sort()\n",
    "print(str(list(zip(rnames,residents))))"
   ]
  },
  {
   "cell_type": "code",
   "execution_count": 44,
   "metadata": {},
   "outputs": [
    {
     "data": {
      "image/png": "[encoded data removed]",
      "text/plain": [
       "<Figure size 504x504 with 1 Axes>"
      ]
     },
     "metadata": {},
     "output_type": "display_data"
    }
   ],
   "source": [
    "rs = plt.figure(figsize=(7,7))\n",
    "my_explode = (0.05) * 3\n",
    "plt.pie(residents, labels = rnames, autopct = absolute_value, explode =my_explode)\n",
    "plt.title(\"\")\n",
    "plt.title(\"Ihap per Sitio pagka April \" + str(30) + \" 8:00 p.m. - May \"+ str(day) +\" 8:00 p.m.\")\n",
    "plt.show()\n",
    "rs.savefig(dstr+\"sitio\")"
   ]
  },
  {
   "cell_type": "code",
   "execution_count": 45,
   "metadata": {},
   "outputs": [
    {
     "name": "stdout",
     "output_type": "stream",
     "text": [
      "['April 19', 'April 20', 'April 21', 'April 22', 'April 23', 'April 24', 'April 25', 'April 26', 'April 27', 'April 28', 'April 29', 'April 30', 'May 1']\n",
      "176\n"
     ]
    }
   ],
   "source": [
    "trend = [346,466,297,338,250,166, 195, 167,141,196,222,159] #176\n",
    "trendnames = [\"April \" + str(x) for x in range(19,31)] + [\"May 1\"] + [\"May \" + str(x) for x in range(1,day)]\n",
    "print(trendnames)\n",
    "trend.append(len(data))\n",
    "print(trend[-1]) # nangawas count"
   ]
  },
  {
   "cell_type": "code",
   "execution_count": 47,
   "metadata": {},
   "outputs": [
    {
     "name": "stdout",
     "output_type": "stream",
     "text": [
      "7/11\n",
      "A Lopez\n",
      "Ayala\n",
      "Bakery\n",
      "Banana\n",
      "Beas\n",
      "Bliss\n",
      "Bonbonan\n",
      "Botika\n",
      "Carbon\n",
      "Cebu Business Park\n",
      "Chong Hua\n",
      "City Hall\n",
      "Colon\n",
      "Colonade\n",
      "Cts\n",
      "Dswd\n",
      "Emall\n",
      "Exit-Salvador\n",
      "Fuente\n",
      "Gaisano\n",
      "Gaisano Colon\n",
      "Gaisano Tisa\n",
      "Grab\n",
      "Hospital\n",
      "I.T Park\n",
      "Julies\n",
      "Kamanggahan\n",
      "Katipunan\n",
      "La Nueva\n",
      "Labangon\n",
      "Lbc Fuente\n",
      "M. Lhullier\n",
      "Mambaling\n",
      "Mandaue\n",
      "Mango Ave.\n",
      "Menteryo\n",
      "Mercado\n",
      "Office\n",
      "Palawan\n",
      "Panganiban\n",
      "Parian\n",
      "Pasil\n",
      "Punta\n",
      "Quality\n",
      "Salvador\n",
      "Skina\n",
      "Skina Menteryo\n",
      "Taboan\n",
      "Tisa\n",
      "Tune Hotel\n",
      "Upper\n",
      "Wala Muingon\n",
      "2\n",
      "2\n",
      "1\n",
      "1\n",
      "1\n",
      "1\n",
      "1\n",
      "1\n",
      "1\n",
      "15\n",
      "1\n",
      "1\n",
      "1\n",
      "7\n",
      "4\n",
      "1\n",
      "1\n",
      "1\n",
      "1\n",
      "1\n",
      "1\n",
      "1\n",
      "3\n",
      "1\n",
      "1\n",
      "1\n",
      "1\n",
      "5\n",
      "1\n",
      "4\n",
      "32\n",
      "1\n",
      "2\n",
      "1\n",
      "2\n",
      "1\n",
      "1\n",
      "1\n",
      "3\n",
      "2\n",
      "1\n",
      "1\n",
      "11\n",
      "1\n",
      "1\n",
      "13\n",
      "16\n",
      "1\n",
      "2\n",
      "5\n",
      "1\n",
      "1\n",
      "12\n"
     ]
    }
   ],
   "source": [
    "dest= data.groupby('Destination')['Destination'].count()\n",
    "dnames = data['Destination'].unique().tolist()\n",
    "dnames = [x for x in dnames if type(x) == str]\n",
    "dnames.sort()\n",
    "fd = list(zip(dnames,dest))\n",
    "fd.append(('Wala Muingon', trend[-1]-sum(dest)))\n",
    "for i in fd:\n",
    "    print(i[0])\n",
    "    \n",
    "for i in fd:\n",
    "    print(i[1])"
   ]
  },
  {
   "cell_type": "code",
   "execution_count": 48,
   "metadata": {},
   "outputs": [
    {
     "data": {
      "image/png": "[encoded data removed]",
      "text/plain": [
       "<Figure size 1080x504 with 1 Axes>"
      ]
     },
     "metadata": {
      "needs_background": "light"
     },
     "output_type": "display_data"
    }
   ],
   "source": [
    "ab = plt.figure(figsize=(15,7))\n",
    "ax = plt.subplot()\n",
    "\n",
    "x = [fd[i][0] for i in range(len(fd))]\n",
    "y = [fd[i][1] for i in range(len(fd))]\n",
    "\n",
    "plt.bar(range(len(fd)),y)\n",
    "# ax.set_yticks(range(max(y)+1))\n",
    "ax.set_xticks(range(len(x)))\n",
    "ax.set_xticklabels(x, rotation = 90)\n",
    "plt.xlabel('Destinasyon')\n",
    "plt.ylabel('Ihap')\n",
    "plt.title(\"Kasagarang Destination pagka April \" + str(30) + \" 8:00 p.m. - May \"+ str(day) +\" 8:00 p.m.\")\n",
    "plt.show()\n",
    "ab.savefig(dstr+'destinasyon')"
   ]
  },
  {
   "cell_type": "code",
   "execution_count": 49,
   "metadata": {},
   "outputs": [
    {
     "name": "stdout",
     "output_type": "stream",
     "text": [
      "20\n",
      "21\n",
      "22\n",
      "23\n",
      "00\n",
      "01\n",
      "02\n",
      "03\n",
      "04\n",
      "05\n",
      "06\n",
      "07\n",
      "08\n",
      "09\n",
      "10\n",
      "11\n",
      "12\n",
      "13\n",
      "14\n",
      "15\n",
      "16\n",
      "17\n",
      "18\n",
      "19\n",
      "0\n",
      "2\n",
      "0\n",
      "7\n",
      "0\n",
      "0\n",
      "4\n",
      "5\n",
      "8\n",
      "15\n",
      "20\n",
      "18\n",
      "33\n",
      "31\n",
      "18\n",
      "0\n",
      "0\n",
      "0\n",
      "0\n",
      "10\n",
      "2\n",
      "1\n",
      "2\n",
      "0\n"
     ]
    }
   ],
   "source": [
    "times = pd.DataFrame()\n",
    "# print(data)\n",
    "times['Count'] = pd.Series([data.loc[i].iloc[4][11:13] for i in range(len(data))])\n",
    "time= times.groupby(times['Count'])['Count'].count().tolist()\n",
    "tnames = times['Count'].unique().tolist()\n",
    "# excess = [(\"0\"+str(i), 0) if (i<10 and \"0\"+str(i) not in tnames) else (str(i), 0) if (i>=10 and str(i) not in tnames) else (tnames[i],times[i]) if str(i) in tnames else (\"\",\"\") for i in range(7)]\n",
    "excess = [(\"0\"+str(i), 0) if (i<10 and \"0\"+str(i) not in tnames) else (str(i), 0) if (i>=10 and str(i) not in tnames) else (\"\",\"\") for i in range(24)]\n",
    "\n",
    "timed = list(zip(tnames,time)) + excess\n",
    "timed = [x for x in timed if x[0] != \"\"]\n",
    "timed.sort(key=lambda tup: tup[0]) \n",
    "timed = timed[20:] + timed[:20]\n",
    "for i in timed:\n",
    "    print(i[0])\n",
    "    \n",
    "for i in timed:\n",
    "    print(i[1])"
   ]
  },
  {
   "cell_type": "code",
   "execution_count": 50,
   "metadata": {},
   "outputs": [
    {
     "data": {
      "image/png": "[encoded data removed]",
      "text/plain": [
       "<Figure size 504x504 with 1 Axes>"
      ]
     },
     "metadata": {
      "needs_background": "light"
     },
     "output_type": "display_data"
    }
   ],
   "source": [
    "at = plt.figure(figsize=(7,7))\n",
    "ax = plt.subplot()\n",
    "\n",
    "x = [timed[i][0] for i in range(len(timed))]\n",
    "y = [timed[i][1] for i in range(len(timed))]\n",
    "\n",
    "plt.bar(range(len(timed)),y)\n",
    "# ax.set_yticks(range(max(y)+1))\n",
    "ax.set_xticks(range(len(x)))\n",
    "ax.set_xticklabels(x)\n",
    "plt.xlabel('Oras')\n",
    "plt.ylabel('Ihap')\n",
    "plt.title(\"Ihap matag Oras April \" + str(30) + \" 8:00 p.m. - May \"+ str(day) +\" 8:00 p.m.\")\n",
    "plt.show()\n",
    "at.savefig(dstr + 'oras')"
   ]
  },
  {
   "cell_type": "code",
   "execution_count": 49,
   "metadata": {},
   "outputs": [
    {
     "ename": "ZeroDivisionError",
     "evalue": "integer division or modulo by zero",
     "output_type": "error",
     "traceback": [
      "\u001b[0;31m---------------------------------------------------------------------------\u001b[0m",
      "\u001b[0;31mZeroDivisionError\u001b[0m                         Traceback (most recent call last)",
      "\u001b[0;32m<ipython-input-49-5af62a6f1bff>\u001b[0m in \u001b[0;36m<module>\u001b[0;34m\u001b[0m\n\u001b[1;32m      9\u001b[0m \u001b[0;34m\u001b[0m\u001b[0m\n\u001b[1;32m     10\u001b[0m \u001b[0mavgdur\u001b[0m \u001b[0;34m=\u001b[0m \u001b[0;34m[\u001b[0m\u001b[0mnp\u001b[0m\u001b[0;34m.\u001b[0m\u001b[0mint64\u001b[0m\u001b[0;34m(\u001b[0m\u001b[0mdatetime\u001b[0m\u001b[0;34m.\u001b[0m\u001b[0mstrptime\u001b[0m\u001b[0;34m(\u001b[0m\u001b[0mx\u001b[0m\u001b[0;34m,\u001b[0m\u001b[0mfmd\u001b[0m\u001b[0;34m)\u001b[0m\u001b[0;34m.\u001b[0m\u001b[0mstrftime\u001b[0m\u001b[0;34m(\u001b[0m\u001b[0;34m\"%s\"\u001b[0m\u001b[0;34m)\u001b[0m\u001b[0;34m)\u001b[0m \u001b[0;32mfor\u001b[0m \u001b[0mx\u001b[0m \u001b[0;32min\u001b[0m \u001b[0mavgdur\u001b[0m \u001b[0;32mif\u001b[0m \u001b[0mx\u001b[0m \u001b[0;34m!=\u001b[0m \u001b[0;34m''\u001b[0m\u001b[0;34m]\u001b[0m\u001b[0;34m\u001b[0m\u001b[0;34m\u001b[0m\u001b[0m\n\u001b[0;32m---> 11\u001b[0;31m \u001b[0mval\u001b[0m \u001b[0;34m=\u001b[0m \u001b[0msum\u001b[0m\u001b[0;34m(\u001b[0m\u001b[0mavgdur\u001b[0m\u001b[0;34m)\u001b[0m\u001b[0;34m//\u001b[0m\u001b[0mlen\u001b[0m\u001b[0;34m(\u001b[0m\u001b[0mavgdur\u001b[0m\u001b[0;34m)\u001b[0m\u001b[0;34m\u001b[0m\u001b[0;34m\u001b[0m\u001b[0m\n\u001b[0m\u001b[1;32m     12\u001b[0m \u001b[0mprint\u001b[0m\u001b[0;34m(\u001b[0m\u001b[0mdatetime\u001b[0m\u001b[0;34m.\u001b[0m\u001b[0mfromtimestamp\u001b[0m\u001b[0;34m(\u001b[0m\u001b[0mval\u001b[0m\u001b[0;34m)\u001b[0m\u001b[0;34m.\u001b[0m\u001b[0mstrftime\u001b[0m\u001b[0;34m(\u001b[0m\u001b[0;34m'%H:%M:%S'\u001b[0m\u001b[0;34m)\u001b[0m\u001b[0;34m)\u001b[0m\u001b[0;34m\u001b[0m\u001b[0;34m\u001b[0m\u001b[0m\n",
      "\u001b[0;31mZeroDivisionError\u001b[0m: integer division or modulo by zero"
     ]
    }
   ],
   "source": [
    "# def calc(row):\n",
    "#     np.int64(datetime.strptime(\"2020-04-23 00:00:00\",FMT).strftime(\"%s\")) * 1000\n",
    "fmd= \"%H:%M:%S\"\n",
    "avgdur = str(data['Duration']).split(\"\\n\")\n",
    "avgdur.pop()\n",
    "avgdur = [x[14:22].strip() for x in avgdur]\n",
    "avgdur = [x for x in avgdur if len(x) == 8]\n",
    "# print(avgdur)\n",
    "\n",
    "avgdur = [np.int64(datetime.strptime(x,fmd).strftime(\"%s\")) for x in avgdur if x != '']\n",
    "val = sum(avgdur)//len(avgdur)\n",
    "print(datetime.fromtimestamp(val).strftime('%H:%M:%S'))"
   ]
  },
  {
   "cell_type": "code",
   "execution_count": 326,
   "metadata": {},
   "outputs": [],
   "source": [
    "# x = [0,1,2]\n",
    "# x = x + [\"hi\" for i in range(10) if x<5 elif x%2==0 \"wew\" else \"kak\"]"
   ]
  },
  {
   "cell_type": "code",
   "execution_count": 83,
   "metadata": {},
   "outputs": [
    {
     "name": "stdout",
     "output_type": "stream",
     "text": [
      "[1, 2]\n"
     ]
    }
   ],
   "source": [
    "x = [0,1,2]\n",
    "kek = \"ih\"\n",
    "# x.insert(kek,0)\n",
    "print(x[1:])"
   ]
  },
  {
   "cell_type": "code",
   "execution_count": 51,
   "metadata": {},
   "outputs": [
    {
     "data": {
      "image/png": "[encoded data removed]",
      "text/plain": [
       "<Figure size 720x576 with 1 Axes>"
      ]
     },
     "metadata": {
      "needs_background": "light"
     },
     "output_type": "display_data"
    }
   ],
   "source": [
    "at = plt.figure(figsize=(10,8))\n",
    "ax = plt.subplot()\n",
    "plt.plot(range(len(trendnames)),trend)\n",
    "ax.set_xticks(range(len(trendnames)))\n",
    "ax.set_xticklabels(trendnames)\n",
    "plt.xlabel('Adlaw')\n",
    "plt.ylabel('Nanggawas')\n",
    "plt.title(\"Ihap sa Nanggawas sukad April 19 hangtod \" + trendnames[-1])\n",
    "plt.show()\n",
    "at.savefig(dstr + 'trend')"
   ]
  },
  {
   "cell_type": "code",
   "execution_count": null,
   "metadata": {},
   "outputs": [],
   "source": []
  }
 ],
 "metadata": {
  "kernelspec": {
   "display_name": "Python 3",
   "language": "python",
   "name": "python3"
  },
  "language_info": {
   "codemirror_mode": {
    "name": "ipython",
    "version": 3
   },
   "file_extension": ".py",
   "mimetype": "text/x-python",
   "name": "python",
   "nbconvert_exporter": "python",
   "pygments_lexer": "ipython3",
   "version": "3.9.5"
  }
 },
 "nbformat": 4,
 "nbformat_minor": 2
}
